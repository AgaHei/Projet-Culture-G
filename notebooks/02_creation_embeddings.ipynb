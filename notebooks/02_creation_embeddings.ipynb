{
 "cells": [
  {
   "cell_type": "markdown",
   "id": "634cadfa",
   "metadata": {},
   "source": [
    "## CulturaBot - création d'un chatbot sur la culture générale basé sur RAG destiné pour les ados/jeunes adultes"
   ]
  },
  {
   "cell_type": "markdown",
   "id": "c1c655d5",
   "metadata": {},
   "source": [
    "Le CulturaBot sera un chatbot qui utilisera les connaissances provenant du livre \"La Culture générale pour les nuls\" en version PDF pour répondre aux questions de culture générale de manière ludique et sans prétention. Ce projet se basera sur un modèle LLM extistant qui sera \"augmenté\" ou enrichi des connaissances dudit livre."
   ]
  },
  {
   "cell_type": "markdown",
   "id": "12b46409",
   "metadata": {},
   "source": [
    "ETAPE 2 : Création des embeddings \n",
    "\n",
    "Le présent notebook a pour objectif de transformer le texte extrait du livre en vecteurs numériques porteur de valeur sématique. Vu le volume restreint du livre, nous n'utiliseront pas de base de données véctorielle externe."
   ]
  },
  {
   "cell_type": "code",
   "execution_count": 1,
   "id": "9da906c6",
   "metadata": {},
   "outputs": [],
   "source": [
    "from langchain.text_splitter import RecursiveCharacterTextSplitter\n",
    "from langchain_community.embeddings import HuggingFaceEmbeddings\n",
    "from langchain_community.vectorstores import FAISS\n",
    "import os"
   ]
  },
  {
   "cell_type": "code",
   "execution_count": 3,
   "id": "9161cf06",
   "metadata": {},
   "outputs": [],
   "source": [
    "# 1. Charger le texte nettoyé\n",
    "with open(\"../data/texte_nettoye.txt\", \"r\", encoding=\"utf-8\") as f:\n",
    "    texte = f.read()"
   ]
  },
  {
   "cell_type": "code",
   "execution_count": 4,
   "id": "3d801636",
   "metadata": {},
   "outputs": [
    {
     "name": "stdout",
     "output_type": "stream",
     "text": [
      "✅ Texte découpé en 2027 chunks.\n"
     ]
    }
   ],
   "source": [
    "# 2. Découper le texte en chunks\n",
    "text_splitter = RecursiveCharacterTextSplitter(\n",
    "    chunk_size=1000,\n",
    "    chunk_overlap=200,\n",
    "    length_function=len\n",
    ")\n",
    "chunks = text_splitter.split_text(texte)\n",
    "print(f\"✅ Texte découpé en {len(chunks)} chunks.\")"
   ]
  },
  {
   "cell_type": "code",
   "execution_count": 5,
   "id": "66dc971b",
   "metadata": {},
   "outputs": [
    {
     "name": "stderr",
     "output_type": "stream",
     "text": [
      "C:\\Users\\aheij\\AppData\\Local\\Temp\\ipykernel_19340\\615097066.py:3: LangChainDeprecationWarning: The class `HuggingFaceEmbeddings` was deprecated in LangChain 0.2.2 and will be removed in 1.0. An updated version of the class exists in the :class:`~langchain-huggingface package and should be used instead. To use it run `pip install -U :class:`~langchain-huggingface` and import as `from :class:`~langchain_huggingface import HuggingFaceEmbeddings``.\n",
      "  embeddings = HuggingFaceEmbeddings(\n",
      "c:\\Users\\aheij\\Desktop\\Jedha\\Data Full Stack\\Projects for Submission\\06 Final Project bloc 6\\projet-culture-g\\venv\\Lib\\site-packages\\tqdm\\auto.py:21: TqdmWarning: IProgress not found. Please update jupyter and ipywidgets. See https://ipywidgets.readthedocs.io/en/stable/user_install.html\n",
      "  from .autonotebook import tqdm as notebook_tqdm\n"
     ]
    },
    {
     "name": "stdout",
     "output_type": "stream",
     "text": [
      "🔍 Génération des embeddings en cours...\n"
     ]
    }
   ],
   "source": [
    "# 3. Générer les embeddings avec un modèle français\n",
    "#    --> Désactive la conversion automatique avec `encode_kwargs`\n",
    "embeddings = HuggingFaceEmbeddings(\n",
    "    model_name=\"sentence-transformers/paraphrase-multilingual-MiniLM-L12-v2\",\n",
    "    model_kwargs={'device': 'cpu'},\n",
    "    encode_kwargs={'normalize_embeddings': True}\n",
    ")\n",
    "print(\"🔍 Génération des embeddings en cours...\")"
   ]
  },
  {
   "cell_type": "code",
   "execution_count": 7,
   "id": "a104172e",
   "metadata": {},
   "outputs": [
    {
     "name": "stdout",
     "output_type": "stream",
     "text": [
      "🎉 Embeddings générés et sauvegardés dans data/faiss_index/\n"
     ]
    }
   ],
   "source": [
    "# 4. Créer et sauvegarder l'index FAISS\n",
    "db = FAISS.from_texts(chunks, embeddings)\n",
    "db.save_local(\"../data/faiss_index\")\n",
    "print(\"🎉 Embeddings générés et sauvegardés dans data/faiss_index/\")"
   ]
  },
  {
   "cell_type": "code",
   "execution_count": 8,
   "id": "e9994a46",
   "metadata": {},
   "outputs": [
    {
     "name": "stdout",
     "output_type": "stream",
     "text": [
      "\n",
      "--- Exemple de chunk ---\n",
      "Avec les Nuls, tout devient facile ! 2e édition La Culture générale cid23cid3Un panorama complet de tous les domaines du savoir cid23cid3Des milliers de faits, de dates et de noms à retenir sans peine...\n"
     ]
    }
   ],
   "source": [
    "# 5. Afficher un exemple de chunk\n",
    "if chunks:\n",
    "    print(\"\\n--- Exemple de chunk ---\")\n",
    "    print(chunks[0][:200] + \"...\")\n",
    "\n"
   ]
  },
  {
   "cell_type": "code",
   "execution_count": 10,
   "id": "fe230f28",
   "metadata": {},
   "outputs": [
    {
     "name": "stdout",
     "output_type": "stream",
     "text": [
      "\n",
      "--- Exemple d'embedding ---\n",
      "[-0.03595955  0.04874558  0.01961184  0.01233185  0.00050273  0.03276659\n",
      " -0.04234035  0.03906041 -0.03726172  0.08657563] ...\n"
     ]
    }
   ],
   "source": [
    "# Afficher un exemple d'embedding\n",
    "if db.index.ntotal > 0:\n",
    "    print(\"\\n--- Exemple d'embedding ---\")\n",
    "    print(db.index.reconstruct(0)[:10], \"...\")"
   ]
  }
 ],
 "metadata": {
  "kernelspec": {
   "display_name": "venv",
   "language": "python",
   "name": "python3"
  },
  "language_info": {
   "codemirror_mode": {
    "name": "ipython",
    "version": 3
   },
   "file_extension": ".py",
   "mimetype": "text/x-python",
   "name": "python",
   "nbconvert_exporter": "python",
   "pygments_lexer": "ipython3",
   "version": "3.12.10"
  }
 },
 "nbformat": 4,
 "nbformat_minor": 5
}
