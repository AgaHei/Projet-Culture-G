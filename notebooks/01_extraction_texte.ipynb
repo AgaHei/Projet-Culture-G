{
 "cells": [
  {
   "cell_type": "markdown",
   "id": "e4908bac",
   "metadata": {},
   "source": [
    "## CulturaBot - création d'un chatbot sur la culture générale basé sur RAG destiné pour les ados/jeunes adultes"
   ]
  },
  {
   "cell_type": "markdown",
   "id": "079d09ca",
   "metadata": {},
   "source": [
    "\n",
    "Le CulturaBot sera un chatbot qui utilisera les connaissances provenant du livre \"La Culture générale pour les nuls\" en version PDF pour répondre aux questions de culture générale de manière ludique et sans prétention. Ce projet se basera sur un modèle LLM extistant qui sera \"augmenté\" ou enrichi des connaissances dudit livre."
   ]
  },
  {
   "cell_type": "markdown",
   "id": "2868bc55",
   "metadata": {},
   "source": [
    "ETAPE 1 : Préparation des données \n",
    "\n",
    "Le présent notebook a pour objectif d'extraire le texte du livre \"La Culture générale pour les nuls\" en version PDF et d'effectuer le traitement necessaire pour les prochaines étapes."
   ]
  },
  {
   "cell_type": "code",
   "execution_count": null,
   "id": "f7c3eef0",
   "metadata": {},
   "outputs": [],
   "source": [
    "# 1. Importer les bibliothèques nécessaires\n",
    "\n",
    "import pdfplumber\n",
    "import re"
   ]
  },
  {
   "cell_type": "code",
   "execution_count": null,
   "id": "d1800970",
   "metadata": {},
   "outputs": [],
   "source": [
    "# 2. Definir les fonctions pour extraire et nettoyer le texte\n",
    "\n",
    "def nettoyer_texte(texte):\n",
    "    \"\"\"Nettoie le texte extrait du PDF (supprime numéros de page, espaces, etc.).\"\"\"\n",
    "    texte = re.sub(r'\\n\\d+\\n', '\\n', texte)  # Supprime les numéros de page\n",
    "    texte = re.sub(r'\\s+', ' ', texte)       # Supprime les espaces multiples\n",
    "    texte = re.sub(r'[^\\w\\s,.;!?\\'\"-]', '', texte)  # Supprime les caractères spéciaux\n",
    "    texte = texte.replace(\"«\", '\"').replace(\"»\", '\"')  # Remplace les guillemets français\n",
    "    return texte.strip()\n",
    "\n",
    "def extraire_texte_pdf(chemin_pdf):\n",
    "    \"\"\"Extrait le texte du PDF en ignorant les images et nettoie le résultat.\"\"\"\n",
    "    texte_brut = \"\"\n",
    "    with pdfplumber.open(chemin_pdf) as pdf:\n",
    "        for page in pdf.pages:\n",
    "            # Extraire uniquement le texte (ignore les images)\n",
    "            texte_page = page.extract_text()\n",
    "            if texte_page:\n",
    "                texte_brut += texte_page + \"\\n\"\n",
    "    return nettoyer_texte(texte_brut)\n",
    "\n"
   ]
  },
  {
   "cell_type": "code",
   "execution_count": null,
   "id": "9ee6c106",
   "metadata": {},
   "outputs": [],
   "source": [
    "# 3. Utiliser les fonctions pour extraire et nettoyer le texte\n",
    "chemin_pdf = \"../data/La_Culture_Generale_Pour_Les_Nuls.pdf\"  # Chemin relatif depuis la racine du projet\n",
    "texte_nettoye = extraire_texte_pdf(chemin_pdf)\n"
   ]
  },
  {
   "cell_type": "code",
   "execution_count": null,
   "id": "9276f313",
   "metadata": {},
   "outputs": [
    {
     "name": "stdout",
     "output_type": "stream",
     "text": [
      "Extraction et nettoyage terminés !\n"
     ]
    }
   ],
   "source": [
    "# 4. Sauvegarder le texte nettoyé\n",
    "with open(\"../data/texte_nettoye.txt\", \"w\", encoding=\"utf-8\") as f:\n",
    "    f.write(texte_nettoye)\n",
    "print(\"Extraction et nettoyage terminés !\")"
   ]
  },
  {
   "cell_type": "code",
   "execution_count": null,
   "id": "04963aa8",
   "metadata": {},
   "outputs": [
    {
     "name": "stdout",
     "output_type": "stream",
     "text": [
      "Avec les Nuls, tout devient facile ! 2e édition La Culture générale cid23cid3Un panorama complet de tous les domaines du savoir cid23cid3Des milliers de faits, de dates et de noms à retenir sans peine cid23cid3De nombreux portraits, histoires et anecdotes cid23cid3Édition mise à jour et augmentée Florence Braunstein Docteur ès lettres Jean-François Pépin Agrégé dhistoire Couv CultureGénéralePLN Dos37.indd 1 181109 1052 CULTUREG.indb II 091109 1007 La Culture générale 2e édition CULTUREG.indb III\n"
     ]
    }
   ],
   "source": [
    "# 5. Afficher un extrait du texte nettoyé pour vérification\n",
    "\n",
    "print(texte_nettoye[:500])  # Affiche les 500 premiers caractères"
   ]
  }
 ],
 "metadata": {
  "kernelspec": {
   "display_name": "venv",
   "language": "python",
   "name": "python3"
  },
  "language_info": {
   "codemirror_mode": {
    "name": "ipython",
    "version": 3
   },
   "file_extension": ".py",
   "mimetype": "text/x-python",
   "name": "python",
   "nbconvert_exporter": "python",
   "pygments_lexer": "ipython3",
   "version": "3.12.10"
  }
 },
 "nbformat": 4,
 "nbformat_minor": 5
}
